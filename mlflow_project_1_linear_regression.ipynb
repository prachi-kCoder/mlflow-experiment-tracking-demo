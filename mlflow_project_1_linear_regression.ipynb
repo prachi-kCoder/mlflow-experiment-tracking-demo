{
  "nbformat": 4,
  "nbformat_minor": 0,
  "metadata": {
    "colab": {
      "provenance": []
    },
    "kernelspec": {
      "name": "python3",
      "display_name": "Python 3"
    },
    "language_info": {
      "name": "python"
    }
  },
  "cells": [
    {
      "cell_type": "code",
      "source": [],
      "metadata": {
        "id": "v3k66fZkxHcw"
      },
      "execution_count": null,
      "outputs": []
    },
    {
      "cell_type": "markdown",
      "source": [
        "Set up your Colab environment: Get MLflow ready to use."
      ],
      "metadata": {
        "id": "xQoL0Sf7xKsV"
      }
    },
    {
      "cell_type": "code",
      "source": [
        "!pip install mlflow scikit-learn numpy pandas\n",
        "!pip install pyngrok"
      ],
      "metadata": {
        "colab": {
          "base_uri": "https://localhost:8080/"
        },
        "id": "hLGM8EZkxGxm",
        "outputId": "c0ea3706-2a17-44e9-dc9e-77b849145ab0"
      },
      "execution_count": 1,
      "outputs": [
        {
          "output_type": "stream",
          "name": "stdout",
          "text": [
            "Requirement already satisfied: mlflow in /usr/local/lib/python3.11/dist-packages (3.1.4)\n",
            "Requirement already satisfied: scikit-learn in /usr/local/lib/python3.11/dist-packages (1.6.1)\n",
            "Requirement already satisfied: numpy in /usr/local/lib/python3.11/dist-packages (2.0.2)\n",
            "Requirement already satisfied: pandas in /usr/local/lib/python3.11/dist-packages (2.2.2)\n",
            "Requirement already satisfied: mlflow-skinny==3.1.4 in /usr/local/lib/python3.11/dist-packages (from mlflow) (3.1.4)\n",
            "Requirement already satisfied: Flask<4 in /usr/local/lib/python3.11/dist-packages (from mlflow) (3.1.1)\n",
            "Requirement already satisfied: alembic!=1.10.0,<2 in /usr/local/lib/python3.11/dist-packages (from mlflow) (1.16.4)\n",
            "Requirement already satisfied: docker<8,>=4.0.0 in /usr/local/lib/python3.11/dist-packages (from mlflow) (7.1.0)\n",
            "Requirement already satisfied: graphene<4 in /usr/local/lib/python3.11/dist-packages (from mlflow) (3.4.3)\n",
            "Requirement already satisfied: gunicorn<24 in /usr/local/lib/python3.11/dist-packages (from mlflow) (23.0.0)\n",
            "Requirement already satisfied: matplotlib<4 in /usr/local/lib/python3.11/dist-packages (from mlflow) (3.10.0)\n",
            "Requirement already satisfied: pyarrow<21,>=4.0.0 in /usr/local/lib/python3.11/dist-packages (from mlflow) (18.1.0)\n",
            "Requirement already satisfied: scipy<2 in /usr/local/lib/python3.11/dist-packages (from mlflow) (1.16.0)\n",
            "Requirement already satisfied: sqlalchemy<3,>=1.4.0 in /usr/local/lib/python3.11/dist-packages (from mlflow) (2.0.41)\n",
            "Requirement already satisfied: cachetools<7,>=5.0.0 in /usr/local/lib/python3.11/dist-packages (from mlflow-skinny==3.1.4->mlflow) (5.5.2)\n",
            "Requirement already satisfied: click<9,>=7.0 in /usr/local/lib/python3.11/dist-packages (from mlflow-skinny==3.1.4->mlflow) (8.2.1)\n",
            "Requirement already satisfied: cloudpickle<4 in /usr/local/lib/python3.11/dist-packages (from mlflow-skinny==3.1.4->mlflow) (3.1.1)\n",
            "Requirement already satisfied: databricks-sdk<1,>=0.20.0 in /usr/local/lib/python3.11/dist-packages (from mlflow-skinny==3.1.4->mlflow) (0.60.0)\n",
            "Requirement already satisfied: fastapi<1 in /usr/local/lib/python3.11/dist-packages (from mlflow-skinny==3.1.4->mlflow) (0.116.1)\n",
            "Requirement already satisfied: gitpython<4,>=3.1.9 in /usr/local/lib/python3.11/dist-packages (from mlflow-skinny==3.1.4->mlflow) (3.1.44)\n",
            "Requirement already satisfied: importlib_metadata!=4.7.0,<9,>=3.7.0 in /usr/local/lib/python3.11/dist-packages (from mlflow-skinny==3.1.4->mlflow) (8.7.0)\n",
            "Requirement already satisfied: opentelemetry-api<3,>=1.9.0 in /usr/local/lib/python3.11/dist-packages (from mlflow-skinny==3.1.4->mlflow) (1.35.0)\n",
            "Requirement already satisfied: opentelemetry-sdk<3,>=1.9.0 in /usr/local/lib/python3.11/dist-packages (from mlflow-skinny==3.1.4->mlflow) (1.35.0)\n",
            "Requirement already satisfied: packaging<26 in /usr/local/lib/python3.11/dist-packages (from mlflow-skinny==3.1.4->mlflow) (25.0)\n",
            "Requirement already satisfied: protobuf<7,>=3.12.0 in /usr/local/lib/python3.11/dist-packages (from mlflow-skinny==3.1.4->mlflow) (5.29.5)\n",
            "Requirement already satisfied: pydantic<3,>=1.10.8 in /usr/local/lib/python3.11/dist-packages (from mlflow-skinny==3.1.4->mlflow) (2.11.7)\n",
            "Requirement already satisfied: pyyaml<7,>=5.1 in /usr/local/lib/python3.11/dist-packages (from mlflow-skinny==3.1.4->mlflow) (6.0.2)\n",
            "Requirement already satisfied: requests<3,>=2.17.3 in /usr/local/lib/python3.11/dist-packages (from mlflow-skinny==3.1.4->mlflow) (2.32.3)\n",
            "Requirement already satisfied: sqlparse<1,>=0.4.0 in /usr/local/lib/python3.11/dist-packages (from mlflow-skinny==3.1.4->mlflow) (0.5.3)\n",
            "Requirement already satisfied: typing-extensions<5,>=4.0.0 in /usr/local/lib/python3.11/dist-packages (from mlflow-skinny==3.1.4->mlflow) (4.14.1)\n",
            "Requirement already satisfied: uvicorn<1 in /usr/local/lib/python3.11/dist-packages (from mlflow-skinny==3.1.4->mlflow) (0.35.0)\n",
            "Requirement already satisfied: joblib>=1.2.0 in /usr/local/lib/python3.11/dist-packages (from scikit-learn) (1.5.1)\n",
            "Requirement already satisfied: threadpoolctl>=3.1.0 in /usr/local/lib/python3.11/dist-packages (from scikit-learn) (3.6.0)\n",
            "Requirement already satisfied: python-dateutil>=2.8.2 in /usr/local/lib/python3.11/dist-packages (from pandas) (2.9.0.post0)\n",
            "Requirement already satisfied: pytz>=2020.1 in /usr/local/lib/python3.11/dist-packages (from pandas) (2025.2)\n",
            "Requirement already satisfied: tzdata>=2022.7 in /usr/local/lib/python3.11/dist-packages (from pandas) (2025.2)\n",
            "Requirement already satisfied: Mako in /usr/lib/python3/dist-packages (from alembic!=1.10.0,<2->mlflow) (1.1.3)\n",
            "Requirement already satisfied: urllib3>=1.26.0 in /usr/local/lib/python3.11/dist-packages (from docker<8,>=4.0.0->mlflow) (2.5.0)\n",
            "Requirement already satisfied: blinker>=1.9.0 in /usr/local/lib/python3.11/dist-packages (from Flask<4->mlflow) (1.9.0)\n",
            "Requirement already satisfied: itsdangerous>=2.2.0 in /usr/local/lib/python3.11/dist-packages (from Flask<4->mlflow) (2.2.0)\n",
            "Requirement already satisfied: jinja2>=3.1.2 in /usr/local/lib/python3.11/dist-packages (from Flask<4->mlflow) (3.1.6)\n",
            "Requirement already satisfied: markupsafe>=2.1.1 in /usr/local/lib/python3.11/dist-packages (from Flask<4->mlflow) (3.0.2)\n",
            "Requirement already satisfied: werkzeug>=3.1.0 in /usr/local/lib/python3.11/dist-packages (from Flask<4->mlflow) (3.1.3)\n",
            "Requirement already satisfied: graphql-core<3.3,>=3.1 in /usr/local/lib/python3.11/dist-packages (from graphene<4->mlflow) (3.2.6)\n",
            "Requirement already satisfied: graphql-relay<3.3,>=3.1 in /usr/local/lib/python3.11/dist-packages (from graphene<4->mlflow) (3.2.0)\n",
            "Requirement already satisfied: contourpy>=1.0.1 in /usr/local/lib/python3.11/dist-packages (from matplotlib<4->mlflow) (1.3.2)\n",
            "Requirement already satisfied: cycler>=0.10 in /usr/local/lib/python3.11/dist-packages (from matplotlib<4->mlflow) (0.12.1)\n",
            "Requirement already satisfied: fonttools>=4.22.0 in /usr/local/lib/python3.11/dist-packages (from matplotlib<4->mlflow) (4.59.0)\n",
            "Requirement already satisfied: kiwisolver>=1.3.1 in /usr/local/lib/python3.11/dist-packages (from matplotlib<4->mlflow) (1.4.8)\n",
            "Requirement already satisfied: pillow>=8 in /usr/local/lib/python3.11/dist-packages (from matplotlib<4->mlflow) (11.3.0)\n",
            "Requirement already satisfied: pyparsing>=2.3.1 in /usr/local/lib/python3.11/dist-packages (from matplotlib<4->mlflow) (3.2.3)\n",
            "Requirement already satisfied: six>=1.5 in /usr/local/lib/python3.11/dist-packages (from python-dateutil>=2.8.2->pandas) (1.17.0)\n",
            "Requirement already satisfied: greenlet>=1 in /usr/local/lib/python3.11/dist-packages (from sqlalchemy<3,>=1.4.0->mlflow) (3.2.3)\n",
            "Requirement already satisfied: google-auth~=2.0 in /usr/local/lib/python3.11/dist-packages (from databricks-sdk<1,>=0.20.0->mlflow-skinny==3.1.4->mlflow) (2.38.0)\n",
            "Requirement already satisfied: starlette<0.48.0,>=0.40.0 in /usr/local/lib/python3.11/dist-packages (from fastapi<1->mlflow-skinny==3.1.4->mlflow) (0.47.2)\n",
            "Requirement already satisfied: gitdb<5,>=4.0.1 in /usr/local/lib/python3.11/dist-packages (from gitpython<4,>=3.1.9->mlflow-skinny==3.1.4->mlflow) (4.0.12)\n",
            "Requirement already satisfied: zipp>=3.20 in /usr/local/lib/python3.11/dist-packages (from importlib_metadata!=4.7.0,<9,>=3.7.0->mlflow-skinny==3.1.4->mlflow) (3.23.0)\n",
            "Requirement already satisfied: opentelemetry-semantic-conventions==0.56b0 in /usr/local/lib/python3.11/dist-packages (from opentelemetry-sdk<3,>=1.9.0->mlflow-skinny==3.1.4->mlflow) (0.56b0)\n",
            "Requirement already satisfied: annotated-types>=0.6.0 in /usr/local/lib/python3.11/dist-packages (from pydantic<3,>=1.10.8->mlflow-skinny==3.1.4->mlflow) (0.7.0)\n",
            "Requirement already satisfied: pydantic-core==2.33.2 in /usr/local/lib/python3.11/dist-packages (from pydantic<3,>=1.10.8->mlflow-skinny==3.1.4->mlflow) (2.33.2)\n",
            "Requirement already satisfied: typing-inspection>=0.4.0 in /usr/local/lib/python3.11/dist-packages (from pydantic<3,>=1.10.8->mlflow-skinny==3.1.4->mlflow) (0.4.1)\n",
            "Requirement already satisfied: charset-normalizer<4,>=2 in /usr/local/lib/python3.11/dist-packages (from requests<3,>=2.17.3->mlflow-skinny==3.1.4->mlflow) (3.4.2)\n",
            "Requirement already satisfied: idna<4,>=2.5 in /usr/local/lib/python3.11/dist-packages (from requests<3,>=2.17.3->mlflow-skinny==3.1.4->mlflow) (3.10)\n",
            "Requirement already satisfied: certifi>=2017.4.17 in /usr/local/lib/python3.11/dist-packages (from requests<3,>=2.17.3->mlflow-skinny==3.1.4->mlflow) (2025.7.14)\n",
            "Requirement already satisfied: h11>=0.8 in /usr/local/lib/python3.11/dist-packages (from uvicorn<1->mlflow-skinny==3.1.4->mlflow) (0.16.0)\n",
            "Requirement already satisfied: smmap<6,>=3.0.1 in /usr/local/lib/python3.11/dist-packages (from gitdb<5,>=4.0.1->gitpython<4,>=3.1.9->mlflow-skinny==3.1.4->mlflow) (5.0.2)\n",
            "Requirement already satisfied: pyasn1-modules>=0.2.1 in /usr/local/lib/python3.11/dist-packages (from google-auth~=2.0->databricks-sdk<1,>=0.20.0->mlflow-skinny==3.1.4->mlflow) (0.4.2)\n",
            "Requirement already satisfied: rsa<5,>=3.1.4 in /usr/local/lib/python3.11/dist-packages (from google-auth~=2.0->databricks-sdk<1,>=0.20.0->mlflow-skinny==3.1.4->mlflow) (4.9.1)\n",
            "Requirement already satisfied: anyio<5,>=3.6.2 in /usr/local/lib/python3.11/dist-packages (from starlette<0.48.0,>=0.40.0->fastapi<1->mlflow-skinny==3.1.4->mlflow) (4.9.0)\n",
            "Requirement already satisfied: sniffio>=1.1 in /usr/local/lib/python3.11/dist-packages (from anyio<5,>=3.6.2->starlette<0.48.0,>=0.40.0->fastapi<1->mlflow-skinny==3.1.4->mlflow) (1.3.1)\n",
            "Requirement already satisfied: pyasn1<0.7.0,>=0.6.1 in /usr/local/lib/python3.11/dist-packages (from pyasn1-modules>=0.2.1->google-auth~=2.0->databricks-sdk<1,>=0.20.0->mlflow-skinny==3.1.4->mlflow) (0.6.1)\n",
            "Requirement already satisfied: pyngrok in /usr/local/lib/python3.11/dist-packages (7.2.12)\n",
            "Requirement already satisfied: PyYAML>=5.1 in /usr/local/lib/python3.11/dist-packages (from pyngrok) (6.0.2)\n"
          ]
        }
      ]
    },
    {
      "cell_type": "code",
      "source": [
        "import mlflow\n",
        "import subprocess\n",
        "from pyngrok import ngrok, conf\n",
        "import getpass\n",
        "import os\n",
        "import time\n",
        "import psutil\n",
        "\n",
        "# Where MLflow will save your experiment data (a file named mlflow.db in your Colab files)\n",
        "# This is the 'backend store' for the server\n",
        "MLFLOW_SERVER_BACKEND_URI = \"sqlite:///mlflow.db\"\n",
        "MLFLOW_PORT = 5000\n",
        "\n",
        "# Clean up any old MLflow or ngrok processes that might be running\n",
        "print(\"Cleaning up any previous MLflow UI or ngrok processes...\")\n",
        "for proc in psutil.process_iter(['pid', 'name', 'cmdline']):\n",
        "    try:\n",
        "        cmdline = ' '.join(proc.info['cmdline'])\n",
        "        if ('mlflow ui' in cmdline or 'ngrok' in cmdline) and f':{MLFLOW_PORT}' in cmdline:\n",
        "            proc.kill()\n",
        "            print(f\"Killed existing process: {proc.info['name']} (PID: {proc.info['pid']})\")\n",
        "    except (psutil.NoSuchProcess, psutil.AccessDenied, psutil.ZombieProcess):\n",
        "        pass\n",
        "print(\"Cleanup complete.\")\n",
        "\n",
        "# Start the MLflow UI server in the background\n",
        "print(f\"Starting MLflow UI server on port {MLFLOW_PORT}...\")\n",
        "log_file = \"mlflow_server.log\"\n",
        "mlflow_command = [\"mlflow\", \"ui\", \"--backend-store-uri\", MLFLOW_SERVER_BACKEND_URI, \"--port\", str(MLFLOW_PORT)]\n",
        "mlflow_process = subprocess.Popen(mlflow_command,\n",
        "                                  stdout=open(log_file, 'w'),\n",
        "                                  stderr=subprocess.STDOUT,\n",
        "                                  preexec_fn=os.setsid)\n",
        "\n",
        "# Give the server a few seconds to start up\n",
        "print(\"Waiting for MLflow UI to be ready...\")\n",
        "time.sleep(5)\n",
        "\n",
        "# Check if the MLflow server started correctly\n",
        "if mlflow_process.poll() is not None:\n",
        "    print(f\"MLflow UI server failed to start (exit code {mlflow_process.poll()}). Please check {log_file} for errors.\")\n",
        "    with open(log_file, 'r') as f:\n",
        "        print(\"\\n--- MLflow Server Log ---\\n\", f.read(), \"\\n--- End Log ---\")\n",
        "    raise Exception(\"MLflow UI server did not start. Cannot proceed.\")\n",
        "\n",
        "# Connect ngrok to your MLflow server to make it viewable online\n",
        "print(\"Enter your ngrok authtoken (get it from https://dashboard.ngrok.com/auth):\")\n",
        "if not conf.get_default().auth_token:\n",
        "    conf.get_default().auth_token = getpass.getpass()\n",
        "\n",
        "print(f\"Creating ngrok tunnel to MLflow UI on port {MLFLOW_PORT}...\")\n",
        "try:\n",
        "    tunnel = ngrok.connect(MLFLOW_PORT)\n",
        "    public_url = tunnel.public_url\n",
        "    print(f\"Your MLflow UI is accessible at: {public_url}\")\n",
        "except Exception as e:\n",
        "    print(f\"Failed to create ngrok tunnel: {e}\")\n",
        "    with open(log_file, 'r') as f:\n",
        "        print(\"\\n--- MLflow Server Log ---\\n\", f.read(), \"\\n--- End Log ---\")\n",
        "    raise Exception(\"Failed to establish ngrok tunnel. Check MLflow server status and ngrok token.\")\n",
        "\n",
        "# --- THIS IS THE CRUCIAL CHANGE ---\n",
        "# Now, set the tracking URI for the MLflow client (your Python script)\n",
        "# to the public URL provided by ngrok.\n",
        "mlflow.set_tracking_uri(public_url)\n",
        "print(f\"MLflow client tracking URI set to: {mlflow.get_tracking_uri()}\")\n",
        "\n",
        "print(\"\\n--- MLflow Setup Complete. You can now proceed with your experiments. ---\")"
      ],
      "metadata": {
        "colab": {
          "base_uri": "https://localhost:8080/"
        },
        "id": "ICJwt2oMxNro",
        "outputId": "314faffa-4cab-4c8e-feac-94fe9095559a"
      },
      "execution_count": 2,
      "outputs": [
        {
          "output_type": "stream",
          "name": "stdout",
          "text": [
            "Cleaning up any previous MLflow UI or ngrok processes...\n",
            "Cleanup complete.\n",
            "Starting MLflow UI server on port 5000...\n",
            "Waiting for MLflow UI to be ready...\n",
            "Enter your ngrok authtoken (get it from https://dashboard.ngrok.com/auth):\n",
            "··········\n",
            "Creating ngrok tunnel to MLflow UI on port 5000...\n",
            "Your MLflow UI is accessible at: https://18764a3bddb8.ngrok-free.app\n",
            "MLflow client tracking URI set to: https://18764a3bddb8.ngrok-free.app\n",
            "\n",
            "--- MLflow Setup Complete. You can now proceed with your experiments. ---\n"
          ]
        }
      ]
    },
    {
      "cell_type": "code",
      "source": [
        "import numpy as np\n",
        "import pandas as pd\n",
        "from sklearn.model_selection import train_test_split\n",
        "from sklearn.linear_model import LinearRegression\n",
        "from sklearn.metrics import mean_squared_error, r2_score\n",
        "import matplotlib.pyplot as plt\n",
        "import seaborn as sns\n",
        "\n",
        "# Create some fake data for a simple prediction task\n",
        "np.random.seed(42) # For consistent results\n",
        "X = 2 * np.random.rand(100, 1) # Our input feature\n",
        "y = 4 + 3 * X + np.random.randn(100, 1) # Our target, with some random noise\n",
        "\n",
        "# Split data into training and testing sets\n",
        "X_train, X_test, y_train, y_test = train_test_split(X, y, test_size=0.2, random_state=42)\n",
        "\n",
        "# Define a function to train our model and log everything with MLflow\n",
        "def run_experiment(iterations, learning_rate_param):\n",
        "    \"\"\"\n",
        "    This function trains a linear regression model and records its details\n",
        "    in your MLflow lab notebook.\n",
        "    \"\"\"\n",
        "    # Start a new entry in your lab notebook for this specific experiment\n",
        "    # We give it a descriptive name\n",
        "    with mlflow.start_run(run_name=f\"Linear Regression Test: Iter={iterations}, LR={learning_rate_param}\") as run:\n",
        "        # Record the settings (parameters) we used for this experiment\n",
        "        mlflow.log_param(\"number_of_iterations\", iterations)\n",
        "        mlflow.log_param(\"simulated_learning_rate\", learning_rate_param)\n",
        "\n",
        "        print(f\"Starting MLflow Run ID: {run.info.run_id}\")\n",
        "        print(f\"Settings logged: Iterations={iterations}, Learning Rate={learning_rate_param}\")\n",
        "\n",
        "        # Train our simple linear regression model\n",
        "        model = LinearRegression()\n",
        "        model.fit(X_train, y_train)\n",
        "\n",
        "        # Make predictions on the test data\n",
        "        y_predicted = model.predict(X_test)\n",
        "\n",
        "        # Calculate how well our model performed\n",
        "        rmse = np.sqrt(mean_squared_error(y_test, y_predicted))\n",
        "        r2 = r2_score(y_test, y_predicted)\n",
        "\n",
        "        # Record the performance numbers (metrics) in our lab notebook\n",
        "        mlflow.log_metric(\"rmse\", rmse)\n",
        "        mlflow.log_metric(\"r2_score\", r2)\n",
        "        print(f\"Performance logged: RMSE={rmse:.4f}, R2 Score={r2:.4f}\")\n",
        "\n",
        "        # Save the trained model itself as an \"artifact\" (a file associated with this run)\n",
        "        mlflow.sklearn.log_model(model, \"trained_linear_model\")\n",
        "        print(\"Trained model saved as 'trained_linear_model'.\")\n",
        "\n",
        "        # Create a visual plot of predictions and save it\n",
        "        fig, ax = plt.subplots(figsize=(8, 6))\n",
        "        ax.scatter(X_test, y_test, color='blue', label='Actual Data')\n",
        "        ax.plot(X_test, y_predicted, color='red', label='Predicted Line')\n",
        "        ax.set_title(f'Predictions for Iter={iterations} (RMSE: {rmse:.2f})')\n",
        "        ax.set_xlabel('Input Feature (X)')\n",
        "        ax.set_ylabel('Target (y)')\n",
        "        ax.legend()\n",
        "        plt.tight_layout()\n",
        "\n",
        "        plot_filename = \"predictions_plot.png\"\n",
        "        plt.savefig(plot_filename)\n",
        "        mlflow.log_artifact(plot_filename) # Log the plot file as an artifact\n",
        "        print(f\"Prediction plot saved as '{plot_filename}' and logged.\")\n",
        "        plt.close(fig) # Close the plot to prevent it from showing up in notebook output\n",
        "\n",
        "        # Also save a simple text file with model details\n",
        "        with open(\"model_details.txt\", \"w\") as f:\n",
        "            f.write(f\"Model Intercept: {model.intercept_[0]:.4f}\\n\")\n",
        "            f.write(f\"Model Coefficient: {model.coef_[0][0]:.4f}\\n\")\n",
        "            f.write(f\"Test RMSE: {rmse:.4f}\\n\")\n",
        "            f.write(f\"Test R2 Score: {r2:.4f}\\n\")\n",
        "        mlflow.log_artifact(\"model_details.txt\")\n",
        "        print(\"Model details text file saved as 'model_details.txt' and logged.\")\n",
        "\n",
        "    print(f\"MLflow Run ID: {run.info.run_id} completed.\")"
      ],
      "metadata": {
        "id": "zJdieRQvxWe0"
      },
      "execution_count": 4,
      "outputs": []
    },
    {
      "cell_type": "code",
      "source": [
        "print(\"\\n--- Running different experiments and logging them with MLflow ---\")\n",
        "\n",
        "# Experiment 1: First attempt with some settings\n",
        "run_experiment(iterations=100, learning_rate_param=0.01)\n",
        "\n",
        "# Experiment 2: Second attempt with different settings\n",
        "run_experiment(iterations=200, learning_rate_param=0.005)\n",
        "\n",
        "# Experiment 3: Third attempt\n",
        "run_experiment(iterations=50, learning_rate_param=0.02)\n",
        "\n",
        "print(\"\\nAll experiments finished! Now, go to the MLflow UI link provided earlier to see your results.\")"
      ],
      "metadata": {
        "colab": {
          "base_uri": "https://localhost:8080/"
        },
        "id": "B2PeC9uJxjGj",
        "outputId": "326ebf09-41e2-46bb-a9f2-c5f655c0be8c"
      },
      "execution_count": 5,
      "outputs": [
        {
          "output_type": "stream",
          "name": "stdout",
          "text": [
            "\n",
            "--- Running different experiments and logging them with MLflow ---\n",
            "Starting MLflow Run ID: b1e0f64f9a3b4200b9253e641b2b552d\n",
            "Settings logged: Iterations=100, Learning Rate=0.01\n"
          ]
        },
        {
          "output_type": "stream",
          "name": "stderr",
          "text": [
            "2025/07/26 08:12:18 WARNING mlflow.models.model: `artifact_path` is deprecated. Please use `name` instead.\n"
          ]
        },
        {
          "output_type": "stream",
          "name": "stdout",
          "text": [
            "Performance logged: RMSE=0.8085, R2 Score=0.8072\n"
          ]
        },
        {
          "output_type": "stream",
          "name": "stderr",
          "text": [
            "\u001b[31m2025/07/26 08:12:27 WARNING mlflow.models.model: Model logged without a signature and input example. Please set `input_example` parameter when logging the model to auto infer the model signature.\u001b[0m\n"
          ]
        },
        {
          "output_type": "stream",
          "name": "stdout",
          "text": [
            "Trained model saved as 'trained_linear_model'.\n",
            "Prediction plot saved as 'predictions_plot.png' and logged.\n",
            "Model details text file saved as 'model_details.txt' and logged.\n",
            "🏃 View run Linear Regression Test: Iter=100, LR=0.01 at: https://18764a3bddb8.ngrok-free.app/#/experiments/0/runs/b1e0f64f9a3b4200b9253e641b2b552d\n",
            "🧪 View experiment at: https://18764a3bddb8.ngrok-free.app/#/experiments/0\n",
            "MLflow Run ID: b1e0f64f9a3b4200b9253e641b2b552d completed.\n",
            "Starting MLflow Run ID: badde063e4bc46759f632c98f4b64f68\n",
            "Settings logged: Iterations=200, Learning Rate=0.005\n"
          ]
        },
        {
          "output_type": "stream",
          "name": "stderr",
          "text": [
            "2025/07/26 08:12:32 WARNING mlflow.models.model: `artifact_path` is deprecated. Please use `name` instead.\n"
          ]
        },
        {
          "output_type": "stream",
          "name": "stdout",
          "text": [
            "Performance logged: RMSE=0.8085, R2 Score=0.8072\n"
          ]
        },
        {
          "output_type": "stream",
          "name": "stderr",
          "text": [
            "\u001b[31m2025/07/26 08:12:37 WARNING mlflow.models.model: Model logged without a signature and input example. Please set `input_example` parameter when logging the model to auto infer the model signature.\u001b[0m\n"
          ]
        },
        {
          "output_type": "stream",
          "name": "stdout",
          "text": [
            "Trained model saved as 'trained_linear_model'.\n",
            "Prediction plot saved as 'predictions_plot.png' and logged.\n",
            "Model details text file saved as 'model_details.txt' and logged.\n",
            "🏃 View run Linear Regression Test: Iter=200, LR=0.005 at: https://18764a3bddb8.ngrok-free.app/#/experiments/0/runs/badde063e4bc46759f632c98f4b64f68\n",
            "🧪 View experiment at: https://18764a3bddb8.ngrok-free.app/#/experiments/0\n",
            "MLflow Run ID: badde063e4bc46759f632c98f4b64f68 completed.\n",
            "Starting MLflow Run ID: 6491329a486949a7a4113d377afdf1c2\n",
            "Settings logged: Iterations=50, Learning Rate=0.02\n"
          ]
        },
        {
          "output_type": "stream",
          "name": "stderr",
          "text": [
            "2025/07/26 08:12:42 WARNING mlflow.models.model: `artifact_path` is deprecated. Please use `name` instead.\n"
          ]
        },
        {
          "output_type": "stream",
          "name": "stdout",
          "text": [
            "Performance logged: RMSE=0.8085, R2 Score=0.8072\n"
          ]
        },
        {
          "output_type": "stream",
          "name": "stderr",
          "text": [
            "\u001b[31m2025/07/26 08:12:47 WARNING mlflow.models.model: Model logged without a signature and input example. Please set `input_example` parameter when logging the model to auto infer the model signature.\u001b[0m\n"
          ]
        },
        {
          "output_type": "stream",
          "name": "stdout",
          "text": [
            "Trained model saved as 'trained_linear_model'.\n",
            "Prediction plot saved as 'predictions_plot.png' and logged.\n",
            "Model details text file saved as 'model_details.txt' and logged.\n",
            "🏃 View run Linear Regression Test: Iter=50, LR=0.02 at: https://18764a3bddb8.ngrok-free.app/#/experiments/0/runs/6491329a486949a7a4113d377afdf1c2\n",
            "🧪 View experiment at: https://18764a3bddb8.ngrok-free.app/#/experiments/0\n",
            "MLflow Run ID: 6491329a486949a7a4113d377afdf1c2 completed.\n",
            "\n",
            "All experiments finished! Now, go to the MLflow UI link provided earlier to see your results.\n"
          ]
        }
      ]
    },
    {
      "cell_type": "code",
      "source": [],
      "metadata": {
        "id": "qjjIYK58xrWr"
      },
      "execution_count": null,
      "outputs": []
    }
  ]
}